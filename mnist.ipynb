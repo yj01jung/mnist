{
 "cells": [
  {
   "cell_type": "markdown",
   "metadata": {},
   "source": [
    "# MNIST\n",
    "with pytorch"
   ]
  },
  {
   "cell_type": "code",
   "execution_count": 2,
   "metadata": {},
   "outputs": [
    {
     "name": "stdout",
     "output_type": "stream",
     "text": [
      "cuda\n"
     ]
    }
   ],
   "source": [
    "import torch\n",
    "import torch.nn as nn\n",
    "import torch.nn.functional as F\n",
    "import torch.optim as optim\n",
    "import torch.optim.lr_scheduler as lr_scheduler\n",
    "import numpy as np\n",
    "import matplotlib.pyplot as plt\n",
    "from torchvision import datasets, transforms\n",
    "device = torch.device(\"cuda\" if torch.cuda.is_available() else \"cpu\")\n",
    "print(device)"
   ]
  },
  {
   "cell_type": "code",
   "execution_count": 24,
   "metadata": {},
   "outputs": [
    {
     "name": "stdout",
     "output_type": "stream",
     "text": [
      "Dataset MNIST\n",
      "    Number of datapoints: 60000\n",
      "    Root location: ./data\n",
      "    Split: Train\n",
      "    StandardTransform\n",
      "Transform: Compose(\n",
      "               ToTensor()\n",
      "               Normalize(mean=(0.1307,), std=(0.3081,))\n",
      "           )\n",
      "total_batch=1200\n"
     ]
    }
   ],
   "source": [
    "\n",
    "tr = transforms.Compose([\n",
    "    transforms.ToTensor(),\n",
    "    transforms.Normalize((0.1307,), (0.3081,))\n",
    "])\n",
    "\n",
    "train_data = datasets.MNIST('./data', download=True, train=True, transform=tr)\n",
    "train_loader = torch.utils.data.DataLoader(dataset=train_data, batch_size=50, shuffle=True)\n",
    "print(train_data)\n",
    "\n",
    "test_data = datasets.MNIST('./data', train=False, transform=tr)\n",
    "test_loader = torch.utils.data.DataLoader(dataset=test_data, batch_size=50, shuffle=True)\n",
    "total_batch = len(train_loader)\n",
    "print(f\"{total_batch=}\")"
   ]
  },
  {
   "cell_type": "code",
   "execution_count": 12,
   "metadata": {},
   "outputs": [],
   "source": [
    "train_iter = iter(train_data)"
   ]
  },
  {
   "cell_type": "code",
   "execution_count": 44,
   "metadata": {},
   "outputs": [
    {
     "data": {
      "image/png": "[encoded data removed]",
      "text/plain": [
       "<Figure size 432x288 with 5 Axes>"
      ]
     },
     "metadata": {
      "needs_background": "light"
     },
     "output_type": "display_data"
    }
   ],
   "source": [
    "\n",
    "fig, axs = plt.subplots(1,5)\n",
    "for ax in axs:\n",
    "    x, t = next(train_iter)\n",
    "    ax.imshow(x.squeeze(), cmap='gray')\n",
    "    ax.set_title(t)"
   ]
  },
  {
   "cell_type": "code",
   "execution_count": 33,
   "metadata": {},
   "outputs": [],
   "source": [
    "class Net(nn.Module):\n",
    "    def __init__(self):\n",
    "        super(Net, self).__init__()\n",
    "        self.conv1 = nn.Conv2d(1, 32, 3, padding=1)\n",
    "        self.norm1 = nn.BatchNorm2d(32)\n",
    "        self.conv2 = nn.Conv2d(32, 64, 3, padding=1)\n",
    "        self.norm2 = nn.BatchNorm2d(64)\n",
    "        self.conv3 = nn.Conv2d(64,128, 4, padding=1)\n",
    "        self.norm3 = nn.BatchNorm2d(128)\n",
    "\n",
    "        self.fc1 = nn.Linear(36 * 128, 128)\n",
    "        self.norm11 = nn.BatchNorm1d(128)\n",
    "        self.fc2 = nn.Linear(128, 64)\n",
    "        self.norm12 = nn.BatchNorm1d(64)        \n",
    "        self.fc3 = nn.Linear(64, 10)\n",
    "        \n",
    "        self.maxpool = nn.MaxPool2d(2,2)\n",
    "        self.dropout = nn.Dropout(0.15)\n",
    "        \n",
    "    def forward(self, x):\n",
    "        x = F.relu(self.norm1(self.conv1(x)))\n",
    "        x = self.maxpool(self.norm2(F.relu(self.conv2(x))))\n",
    "        x = self.dropout(self.maxpool(self.norm3(F.relu(self.conv3(x)))))\n",
    "        x = x.view(-1, self.num_flat_features(x))\n",
    "#         print(x.size())\n",
    "        x = F.relu(self.norm11(self.fc1(x)))\n",
    "        x = F.relu(self.dropout(self.norm12(self.fc2(x))))\n",
    "        x = self.fc3(x)\n",
    "        return x\n",
    "    \n",
    "    def num_flat_features(self, x):\n",
    "        size = x.size()[1:]\n",
    "        return np.prod(size)"
   ]
  },
  {
   "cell_type": "code",
   "execution_count": 34,
   "metadata": {},
   "outputs": [
    {
     "name": "stdout",
     "output_type": "stream",
     "text": [
      "Net(\n",
      "  (conv1): Conv2d(1, 32, kernel_size=(3, 3), stride=(1, 1), padding=(1, 1))\n",
      "  (norm1): BatchNorm2d(32, eps=1e-05, momentum=0.1, affine=True, track_running_stats=True)\n",
      "  (conv2): Conv2d(32, 64, kernel_size=(3, 3), stride=(1, 1), padding=(1, 1))\n",
      "  (norm2): BatchNorm2d(64, eps=1e-05, momentum=0.1, affine=True, track_running_stats=True)\n",
      "  (conv3): Conv2d(64, 128, kernel_size=(4, 4), stride=(1, 1), padding=(1, 1))\n",
      "  (norm3): BatchNorm2d(128, eps=1e-05, momentum=0.1, affine=True, track_running_stats=True)\n",
      "  (fc1): Linear(in_features=4608, out_features=128, bias=True)\n",
      "  (norm11): BatchNorm1d(128, eps=1e-05, momentum=0.1, affine=True, track_running_stats=True)\n",
      "  (fc2): Linear(in_features=128, out_features=64, bias=True)\n",
      "  (norm12): BatchNorm1d(64, eps=1e-05, momentum=0.1, affine=True, track_running_stats=True)\n",
      "  (fc3): Linear(in_features=64, out_features=10, bias=True)\n",
      "  (maxpool): MaxPool2d(kernel_size=2, stride=2, padding=0, dilation=1, ceil_mode=False)\n",
      "  (dropout): Dropout(p=0.15, inplace=False)\n",
      ")\n"
     ]
    }
   ],
   "source": [
    "\n",
    "net = Net().to(device)\n",
    "criterion = torch.nn.CrossEntropyLoss().to(device)\n",
    "optimizer = optim.Adam(net.parameters(), lr=0.001)\n",
    "scheduler = lr_scheduler.ReduceLROnPlateau(optimizer, threshold=0.01, patience=1, mode='min')   \n",
    "\n",
    "print(net)"
   ]
  },
  {
   "cell_type": "code",
   "execution_count": 35,
   "metadata": {},
   "outputs": [
    {
     "name": "stdout",
     "output_type": "stream",
     "text": [
      "epoch=0 train_loss=12.435025215148926%\n",
      "Accuracy: 99.23%\n",
      "epoch=1 train_loss=4.069357872009277%\n",
      "Accuracy: 99.28%\n",
      "epoch=2 train_loss=3.018172025680542%\n",
      "Accuracy: 99.29%\n",
      "epoch=3 train_loss=2.3988232612609863%\n",
      "Accuracy: 99.31%\n",
      "epoch=4 train_loss=1.9684597253799438%\n",
      "Accuracy: 99.25%\n",
      "epoch=5 train_loss=1.5906914472579956%\n",
      "Accuracy: 99.42%\n",
      "epoch=6 train_loss=1.5720834732055664%\n",
      "Accuracy: 99.16%\n",
      "epoch=7 train_loss=1.05382239818573%\n",
      "Accuracy: 99.29%\n",
      "epoch=8 train_loss=0.6135427355766296%\n",
      "Accuracy: 99.51%\n",
      "epoch=9 train_loss=0.3843817114830017%\n",
      "Accuracy: 99.53%\n",
      "epoch=10 train_loss=0.2608542740345001%\n",
      "Accuracy: 99.5%\n",
      "epoch=11 train_loss=0.2489868551492691%\n",
      "Accuracy: 99.54%\n",
      "epoch=12 train_loss=0.1823357194662094%\n",
      "Accuracy: 99.52%\n",
      "epoch=13 train_loss=0.17540550231933594%\n",
      "Accuracy: 99.51%\n",
      "epoch=14 train_loss=0.15683384239673615%\n",
      "Accuracy: 99.55%\n"
     ]
    }
   ],
   "source": [
    "\n",
    "train_loss_list = []\n",
    "test_acc_list = []\n",
    "for epoch in range(15):\n",
    "    net.train()\n",
    "    total_loss = 0\n",
    "    for x, target in train_loader:\n",
    "        x = x.to(device)\n",
    "        target = target.to(device)\n",
    "        optimizer.zero_grad()\n",
    "        output = net(x)\n",
    "        loss = criterion(output, target)\n",
    "        loss.backward()\n",
    "        optimizer.step()\n",
    "        total_loss += loss\n",
    "    scheduler.step(loss) \n",
    "        \n",
    "    print(f\"{epoch=} train_loss={100 * total_loss / total_batch}%\")\n",
    "    train_loss_list.append(total_loss / total_batch)\n",
    "    correct = 0\n",
    "    total = 0\n",
    "    with torch.no_grad():\n",
    "        net.eval()\n",
    "        for (x, label) in test_loader:\n",
    "            x = x.to(device)\n",
    "            label = label.to(device)\n",
    "            output = net(x)\n",
    "            _, predicted = torch.max(output.data, 1)\n",
    "            total += label.size(0)\n",
    "            correct += (predicted == label).sum().item()\n",
    "    print(f\"Accuracy: {100 * correct / total}%\")\n",
    "    test_acc_list.append(correct / total)\n",
    "\n",
    "\n"
   ]
  },
  {
   "cell_type": "code",
   "execution_count": null,
   "metadata": {},
   "outputs": [],
   "source": [
    "torch.save(net.state_dict(), \"./mnist.pth\")"
   ]
  },
  {
   "cell_type": "code",
   "execution_count": 29,
   "metadata": {},
   "outputs": [
    {
     "data": {
      "text/plain": [
       "<matplotlib.legend.Legend at 0x7fa250a8aa90>"
      ]
     },
     "execution_count": 29,
     "metadata": {},
     "output_type": "execute_result"
    },
    {
     "data": {
      "image/png": "[encoded data removed]",
      "text/plain": [
       "<Figure size 432x288 with 1 Axes>"
      ]
     },
     "metadata": {
      "needs_background": "light"
     },
     "output_type": "display_data"
    }
   ],
   "source": [
    "\n",
    "plt.plot(range(15), np.array(train_loss_list))\n",
    "plt.plot(range(15),1 - np.array(test_acc_list))\n",
    "plt.legend(['Train', 'Test'])"
   ]
  },
  {
   "cell_type": "code",
   "execution_count": 5,
   "metadata": {
    "scrolled": true
   },
   "outputs": [
    {
     "name": "stdout",
     "output_type": "stream",
     "text": [
      "Accuracy: 99.66%\n"
     ]
    }
   ],
   "source": [
    "correct = 0\n",
    "total = 0\n",
    "net = Net().to(device)\n",
    "net.load_state_dict(torch.load(\"./mnist.pth\"))\n",
    "with torch.no_grad():\n",
    "    net.eval()\n",
    "    for (x, label) in test_loader:\n",
    "        x = x.to(device)\n",
    "        label = label.to(device)\n",
    "        output = net(x)\n",
    "        _, predicted = torch.max(output.data, 1)\n",
    "        total += label.size(0)\n",
    "        correct += (predicted == label).sum().item()\n",
    "print(f\"Accuracy: {100 * correct / total}%\")"
   ]
  }
 ],
 "metadata": {
  "kernelspec": {
   "display_name": "Python 3",
   "language": "python",
   "name": "python3"
  },
  "varInspector": {
   "cols": {
    "lenName": 16,
    "lenType": 16,
    "lenVar": 40
   },
   "kernels_config": {
    "python": {
     "delete_cmd_postfix": "",
     "delete_cmd_prefix": "del ",
     "library": "var_list.py",
     "varRefreshCmd": "print(var_dic_list())"
    },
    "r": {
     "delete_cmd_postfix": ") ",
     "delete_cmd_prefix": "rm(",
     "library": "var_list.r",
     "varRefreshCmd": "cat(var_dic_list()) "
    }
   },
   "types_to_exclude": [
    "module",
    "function",
    "builtin_function_or_method",
    "instance",
    "_Feature"
   ],
   "window_display": false
  }
 },
 "nbformat": 4,
 "nbformat_minor": 4
}
